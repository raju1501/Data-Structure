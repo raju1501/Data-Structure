{
  "nbformat": 4,
  "nbformat_minor": 0,
  "metadata": {
    "colab": {
      "provenance": []
    },
    "kernelspec": {
      "name": "python3",
      "display_name": "Python 3"
    },
    "language_info": {
      "name": "python"
    }
  },
  "cells": [
    {
      "cell_type": "code",
      "execution_count": null,
      "metadata": {
        "id": "FQzOQHblSQlv"
      },
      "outputs": [],
      "source": []
    },
    {
      "cell_type": "markdown",
      "source": [
        "# Assignment Data Structure"
      ],
      "metadata": {
        "id": "pCAaZiaaUJqH"
      }
    },
    {
      "cell_type": "markdown",
      "source": [
        "1. What are data structures, and why are they important ?\n",
        "- Data structures are ways of organizing and storing data to perform operations efficiently. Examples include lists, tuples, dictionaries, and sets.\n",
        "2. Explain the difference between mutable and immutable data types with examples.\n",
        "- **Mutable**: Can be changed after creation E.g., list, dict, set ,This means you can modify, add, or remove elements without creating a new object.\n",
        "- **Immutable** : objects cannot be changed after they are created. Any operation that modifies the data will actually create a new object."
      ],
      "metadata": {
        "id": "v6Qqej7wU124"
      }
    },
    {
      "cell_type": "code",
      "source": [
        "# example of Mutable Data Type\n",
        "my_list = [1, 2, 3]\n",
        "my_list.append(4)  # Modify the list in place\n",
        "print(my_list)"
      ],
      "metadata": {
        "colab": {
          "base_uri": "https://localhost:8080/"
        },
        "id": "W8_VVdTVWyRu",
        "outputId": "a4a92908-579f-4494-81b6-9d7860324f25"
      },
      "execution_count": null,
      "outputs": [
        {
          "output_type": "stream",
          "name": "stdout",
          "text": [
            "[1, 2, 3, 4]\n"
          ]
        }
      ]
    },
    {
      "cell_type": "code",
      "source": [
        "# Immutable Data Types\n",
        "my_str = \"Hello\"\n",
        "my_str = my_str + \" World\"  # Creates a new string\n",
        "print(my_str)\n"
      ],
      "metadata": {
        "colab": {
          "base_uri": "https://localhost:8080/"
        },
        "id": "Kn4CWC2iXFW7",
        "outputId": "77729f07-7544-40cb-ee0b-94ed0337ecd2"
      },
      "execution_count": null,
      "outputs": [
        {
          "output_type": "stream",
          "name": "stdout",
          "text": [
            "Hello World\n"
          ]
        }
      ]
    },
    {
      "cell_type": "markdown",
      "source": [
        "3. What are the main differences between lists and tuples in Python?\n",
        "- **1. Mutability**\n",
        "\n",
        "  List: Mutable – You can change, add, or remove elements.\n",
        "\n",
        "   Tuple: Immutable – Once created, it cannot be changed.\n",
        "- **2. Performance**\n",
        "\n",
        "  Tuple: Slightly faster than lists, especially for large data or iteration, because they are immutable.\n",
        "\n",
        "  List: A bit slower, but more flexible.\n",
        "- **3. Syntax**\n",
        "\n",
        "   List: Uses square brackets [ ]\n",
        "\n",
        "  Tuple: Uses parentheses ( )\n",
        "- **4. Use Cases**\n",
        "\n",
        "  List: When you need a dynamic collection that may change (e.g., adding/removing items).\n",
        "\n",
        "  Tuple: When you need a fixed collection, or when used as dictionary keys (since they're hashable).\n",
        "4. Describe how dictionaries store data.\n",
        "- A dictionary in Python is a collection of key-value pairs.\n",
        "- Key = the label (e.g., \"name\")\n",
        "\n",
        "  Value = the data (e.g., \"raju\")"
      ],
      "metadata": {
        "id": "q9Leig8KXrCH"
      }
    },
    {
      "cell_type": "code",
      "source": [
        "student = {\n",
        "    \"name\": \"raju\",\n",
        "    \"age\": 28,\n",
        "    \"course\": \"Computer Science\"\n",
        "}\n"
      ],
      "metadata": {
        "id": "B2O66Jfgbl5W"
      },
      "execution_count": 4,
      "outputs": []
    },
    {
      "cell_type": "markdown",
      "source": [
        "- How is it stored?\n",
        "- Step 1: Python hashes the key\n",
        "\n",
        "  Python uses a function called hash() to turn the key into a number.\n",
        "- Step 2: It stores the key and value in that slot\n",
        "\n",
        " Python doesn't just store the value. It stores both the key and value together so it can always match them correctly later.\n",
        "- Step 3: Fast lookups using the hash\n",
        "5. What is a string in Python, and how is it different from a list?\n",
        "-  **A String in Python :**\n",
        "A string is a sequence of characters.\n",
        "It’s used to store text — like names, sentences.\n",
        "-  **A List in Python :** A list is a sequence that can hold any type of items — numbers, strings, even other lists.\n",
        "6. How do tuples ensure data integrity in Python?\n",
        "- Tuples help ensure data integrity in Python by being immutable — once created, they cannot be changed.\n",
        "- **Data integrity :** means keeping data:\n",
        "\n",
        "  Accurate\n",
        "\n",
        "  Consistent\n",
        "\n",
        "  Unchanged unless explicitly intended\n",
        "- How Tuples Help Ensure Data Integrity\n",
        "\n",
        " Immutability = Safety\n",
        "\n",
        " Once you create a tuple, it cannot be modified:\n",
        "\n",
        " No adding\n",
        "\n",
        " No removing\n",
        "\n",
        " No changing elements\n",
        "- Tuples Can Be Used as Dictionary Keys\n",
        "- Helps Define Fixed Data Structures\n",
        "- Safe from Unintended Side Effects\n",
        "7. What is a hash table, and how does it relate to dictionaries in Python?\n",
        "- A hash table is a data structure that stores data in key-value pairs and uses a hash function to compute an index (like an address in memory) where the value is stored.\n",
        "- How Does This Relate to Python Dictionaries\n",
        "\n",
        " Python's dict type is built using a hash table internally. That’s what makes dict so fast.\n",
        "\n",
        " person = {\"name\": \"raju\", \"age\": 30}\n",
        "\n",
        " Python calls hash(\"name\") → gets a number (e.g. 823749)\n",
        "\n",
        " That number is mapped to a slot (an index) in an internal array\n",
        "\n",
        " Python stores the key and value together at that slot → (\"name\", \"raju\")\n",
        "8. Can lists contain different data types in Python?\n",
        "- Yes, lists in Python can contain elements of different data types. This flexibility is one of the key features of Python lists. A single list can hold integers, strings, floats, booleans, and even other lists or dictionaries.\n",
        "9. Explain why strings are immutable in Python.\n",
        "- Strings are immutable in Python because once a string is created, its contents cannot be changed\n",
        "- **Why Are Strings Immutable **\n",
        "\n",
        " Performance and Memory Efficiency : Strings are widely used in Python, so optimizing their use matters.\n",
        "\n",
        " Thread Safety : Because they can’t be changed, immutable objects are inherently thread-safe.\n",
        "\n",
        " Hashing for Dictionaries/Sets : Strings are commonly used as keys in dictionaries or elements in sets.\n",
        "\n",
        " Simplicity and Consistency\n",
        "10. What advantages do dictionaries offer over lists for certain tasks.\n",
        "-  Advantages of Dictionaries Over Lists\n",
        "\n",
        " Advantages of Dictionaries Over Lists\n",
        "\n",
        " Key-Value Association:Dictionaries let you associate labels (keys) with values.\n",
        "\n",
        " Avoiding Duplicate Keys: Dictionaries automatically overwrite values if a duplicate key is added, helping manage uniqueness.\n",
        "\n",
        " Dynamic and Flexible Structure: Easy to add, update, or delete entries without shifting other elements"
      ],
      "metadata": {
        "id": "rVCluVTwb0oI"
      }
    },
    {
      "cell_type": "markdown",
      "source": [
        "# Practical Questions"
      ],
      "metadata": {
        "id": "d394ItJUodtS"
      }
    },
    {
      "cell_type": "code",
      "source": [
        "# 1. Write a code to create a string with your name and print it\n",
        "name = \"raju\"\n",
        "print(name)"
      ],
      "metadata": {
        "colab": {
          "base_uri": "https://localhost:8080/"
        },
        "id": "Ee0qYCZQomaA",
        "outputId": "75b5fcf0-b4d1-48b4-add5-724d9cc651fc"
      },
      "execution_count": 5,
      "outputs": [
        {
          "output_type": "stream",
          "name": "stdout",
          "text": [
            "raju\n"
          ]
        }
      ]
    },
    {
      "cell_type": "code",
      "source": [
        "# 2. Write a code to find the length of the string \"Hello World\"\n",
        "str = \"Hello World\"\n",
        "print(len(str))"
      ],
      "metadata": {
        "colab": {
          "base_uri": "https://localhost:8080/"
        },
        "id": "0wCD0zgvov5_",
        "outputId": "b9b6b12e-ded7-4afc-8da9-dd9666d4c137"
      },
      "execution_count": 6,
      "outputs": [
        {
          "output_type": "stream",
          "name": "stdout",
          "text": [
            "11\n"
          ]
        }
      ]
    },
    {
      "cell_type": "code",
      "source": [
        "# 3. Write a code to slice the first 3 characters from the string \"Python Programming\"\n",
        "str = \"Python Programming\"\n",
        "print(str[:3])"
      ],
      "metadata": {
        "colab": {
          "base_uri": "https://localhost:8080/"
        },
        "id": "xKnYLEZoo92I",
        "outputId": "0652e36a-ec20-4063-c8d3-44e1df562e64"
      },
      "execution_count": 7,
      "outputs": [
        {
          "output_type": "stream",
          "name": "stdout",
          "text": [
            "Pyt\n"
          ]
        }
      ]
    },
    {
      "cell_type": "code",
      "source": [
        "# 4. Write a code to convert the string \"hello\" to uppercase.\n",
        "text = \"hello\"\n",
        "\n",
        "# Convert to uppercase\n",
        "uppercase_text = text.upper()\n",
        "\n",
        "# Print the result\n",
        "print(\"Uppercase:\", uppercase_text)\n"
      ],
      "metadata": {
        "colab": {
          "base_uri": "https://localhost:8080/"
        },
        "id": "BtMUDwXupOT8",
        "outputId": "51a92246-b549-4460-a462-752d76f47764"
      },
      "execution_count": 8,
      "outputs": [
        {
          "output_type": "stream",
          "name": "stdout",
          "text": [
            "Uppercase: HELLO\n"
          ]
        }
      ]
    },
    {
      "cell_type": "code",
      "source": [
        "# 5. Write a code to replace the word \"apple\" with \"orange\" in the string \"I like apple\"\n",
        "text = \"I like apple\"\n",
        "new_text = text.replace(\"apple\", \"orange\")\n",
        "print(new_text)"
      ],
      "metadata": {
        "colab": {
          "base_uri": "https://localhost:8080/"
        },
        "id": "xkJNf9GSpidr",
        "outputId": "5146ac01-0180-45c4-934d-08899ce0018b"
      },
      "execution_count": 9,
      "outputs": [
        {
          "output_type": "stream",
          "name": "stdout",
          "text": [
            "I like orange\n"
          ]
        }
      ]
    },
    {
      "cell_type": "code",
      "source": [
        "# 6. Write a code to create a list with numbers 1 to 5 and print it\n",
        "numbers = [1, 2, 3, 4, 5]\n",
        "\n",
        "print(\"List of numbers:\", numbers)  # # Print the list\n"
      ],
      "metadata": {
        "colab": {
          "base_uri": "https://localhost:8080/"
        },
        "id": "IXcmL-lvp3Px",
        "outputId": "53d75f5e-2db4-4834-fc64-fc5d97b86ed2"
      },
      "execution_count": 10,
      "outputs": [
        {
          "output_type": "stream",
          "name": "stdout",
          "text": [
            "List of numbers: [1, 2, 3, 4, 5]\n"
          ]
        }
      ]
    },
    {
      "cell_type": "code",
      "source": [
        "# 7.  Write a code to append the number 10 to the list [1, 2, 3, 4]\n",
        "numbers = [1, 2, 3, 4]  #  Define the list\n",
        "\n",
        "numbers.append(10)      # Append the number 10\n",
        "\n",
        "print(\"Updated list:\", numbers)  # Print the updated list\n"
      ],
      "metadata": {
        "colab": {
          "base_uri": "https://localhost:8080/"
        },
        "id": "aYcrmFAlqIyY",
        "outputId": "7056b9bb-d618-4f2a-a017-eaabca08b7c2"
      },
      "execution_count": 11,
      "outputs": [
        {
          "output_type": "stream",
          "name": "stdout",
          "text": [
            "Updated list: [1, 2, 3, 4, 10]\n"
          ]
        }
      ]
    },
    {
      "cell_type": "code",
      "source": [
        "# 8. Write a code to remove the number 3 from the list [1, 2, 3, 4, 5]\n",
        "numbers = [1, 2, 3, 4, 5]  # Define the list\n",
        "\n",
        "numbers.remove(3)         # Remove the number 3\n",
        "\n",
        "print(\"Updated list:\", numbers)  # Print the updated list"
      ],
      "metadata": {
        "colab": {
          "base_uri": "https://localhost:8080/"
        },
        "id": "ILr5aoByqhxL",
        "outputId": "e82553cb-d7d5-4364-e79a-b9e93dc0b250"
      },
      "execution_count": 12,
      "outputs": [
        {
          "output_type": "stream",
          "name": "stdout",
          "text": [
            "Updated list: [1, 2, 4, 5]\n"
          ]
        }
      ]
    },
    {
      "cell_type": "code",
      "source": [
        "# 9. Write a code to access the second element in the list ['a', 'b', 'c', 'd']\n",
        "my_list = ['a', 'b', 'c', 'd']\n",
        "\n",
        "second_element = my_list[1]\n",
        "\n",
        "print(\"Second element:\", second_element)"
      ],
      "metadata": {
        "colab": {
          "base_uri": "https://localhost:8080/"
        },
        "id": "mMjcq7ESqsXH",
        "outputId": "75b37691-eae3-4c9b-8354-e37014d4c690"
      },
      "execution_count": 13,
      "outputs": [
        {
          "output_type": "stream",
          "name": "stdout",
          "text": [
            "Second element: b\n"
          ]
        }
      ]
    },
    {
      "cell_type": "code",
      "source": [
        "# 10. Write a code to reverse the list [10, 20, 30, 40, 50].\n",
        "my_list = [10, 20, 30, 40, 50]\n",
        "\n",
        "reversed_list = my_list[::-1]\n",
        "\n",
        "print(\"Reversed list:\", reversed_list)"
      ],
      "metadata": {
        "colab": {
          "base_uri": "https://localhost:8080/"
        },
        "id": "qP7mAbkhq8R5",
        "outputId": "dce6d7b5-4716-4304-d737-d3b369df9d0c"
      },
      "execution_count": 14,
      "outputs": [
        {
          "output_type": "stream",
          "name": "stdout",
          "text": [
            "Reversed list: [50, 40, 30, 20, 10]\n"
          ]
        }
      ]
    },
    {
      "cell_type": "code",
      "source": [
        "# 11. Write a code to create a tuple with the elements 100, 200, 300 and print it\n",
        "my_tuple = (100, 200, 300)\n",
        "\n",
        "print(\"Tuple:\", my_tuple)"
      ],
      "metadata": {
        "colab": {
          "base_uri": "https://localhost:8080/"
        },
        "id": "Yf5Eje3vrDAx",
        "outputId": "76e2b5fe-1685-43ef-87af-4b9a097bb93f"
      },
      "execution_count": 15,
      "outputs": [
        {
          "output_type": "stream",
          "name": "stdout",
          "text": [
            "Tuple: (100, 200, 300)\n"
          ]
        }
      ]
    },
    {
      "cell_type": "code",
      "source": [
        "# 12.  Write a code to access the second-to-last element of the tuple ('red', 'green', 'blue', 'yellow').\n",
        "my_tuple = ('red', 'green', 'blue', 'yellow')\n",
        "\n",
        "second_to_last_element = my_tuple[-2]\n",
        "\n",
        "print(\"Second-to-last element:\", second_to_last_element)\n",
        "#"
      ],
      "metadata": {
        "colab": {
          "base_uri": "https://localhost:8080/"
        },
        "id": "wqAoCRVgrVOq",
        "outputId": "269591a7-9c02-40b7-827e-d7f96a09cad4"
      },
      "execution_count": 16,
      "outputs": [
        {
          "output_type": "stream",
          "name": "stdout",
          "text": [
            "Second-to-last element: blue\n"
          ]
        }
      ]
    },
    {
      "cell_type": "code",
      "source": [
        "# 13. Write a code to find the minimum number in the tuple (10, 20, 5, 15)\n",
        "my_tuple = (10, 20, 5, 15)\n",
        "\n",
        "min_number = min(my_tuple)\n",
        "\n",
        "print(\"Minimum number:\", min_number)"
      ],
      "metadata": {
        "colab": {
          "base_uri": "https://localhost:8080/"
        },
        "id": "4bX0lKqqrc84",
        "outputId": "f4fd0f32-bfea-49ab-bb42-14240b88ce8e"
      },
      "execution_count": 17,
      "outputs": [
        {
          "output_type": "stream",
          "name": "stdout",
          "text": [
            "Minimum number: 5\n"
          ]
        }
      ]
    },
    {
      "cell_type": "code",
      "source": [
        "# 14. Write a code to find the index of the element \"cat\" in the tuple ('dog', 'cat', 'rabbit').\n",
        "my_tuple = ('dog', 'cat', 'rabbit')\n",
        "\n",
        "cat_index = my_tuple.index('cat')\n",
        "\n",
        "print(\"Index of 'cat':\", cat_index)"
      ],
      "metadata": {
        "colab": {
          "base_uri": "https://localhost:8080/"
        },
        "id": "a4iFStWzrjtu",
        "outputId": "3e505af7-5865-4f64-e437-8098508bb9fc"
      },
      "execution_count": 18,
      "outputs": [
        {
          "output_type": "stream",
          "name": "stdout",
          "text": [
            "Index of 'cat': 1\n"
          ]
        }
      ]
    },
    {
      "cell_type": "code",
      "source": [
        "# 15. Write a code to create a tuple containing three different fruits and check if \"kiwi\" is in it.\n",
        "\n",
        "fruits = (\"apple\", \"banana\", \"orange\")\n",
        "\n",
        "if \"kiwi\" in fruits:\n",
        "    print(\"kiwi is in the tuple\")\n",
        "else:\n",
        "    print(\"kiwi is not in the tuple\")"
      ],
      "metadata": {
        "colab": {
          "base_uri": "https://localhost:8080/"
        },
        "id": "FS8lOXQQrqXz",
        "outputId": "35dd9194-9b28-4f0d-f231-3d61cc1a0be6"
      },
      "execution_count": 19,
      "outputs": [
        {
          "output_type": "stream",
          "name": "stdout",
          "text": [
            "kiwi is not in the tuple\n"
          ]
        }
      ]
    },
    {
      "cell_type": "code",
      "source": [
        "# 16.  Write a code to create a set with the elements 'a', 'b', 'c' and print it.\n",
        "\n",
        "my_set = {'a', 'b', 'c'}\n",
        "\n",
        "print(\"Set:\", my_set)"
      ],
      "metadata": {
        "colab": {
          "base_uri": "https://localhost:8080/"
        },
        "id": "pEpMaZwOr29Q",
        "outputId": "9e6c68dc-e897-43b5-bcdd-7739232f8130"
      },
      "execution_count": 20,
      "outputs": [
        {
          "output_type": "stream",
          "name": "stdout",
          "text": [
            "Set: {'a', 'b', 'c'}\n"
          ]
        }
      ]
    },
    {
      "cell_type": "code",
      "source": [
        "# 17.  Write a code to clear all elements from the set {1, 2, 3, 4, 5}.\n",
        "\n",
        "my_set = {1, 2, 3, 4, 5}\n",
        "\n",
        "my_set.clear()\n",
        "\n",
        "print(\"Set after clearing:\", my_set)"
      ],
      "metadata": {
        "colab": {
          "base_uri": "https://localhost:8080/"
        },
        "id": "B2PcyR1sr8CO",
        "outputId": "d69b51c1-4601-4a9f-e2de-afc24a4c9b0e"
      },
      "execution_count": 21,
      "outputs": [
        {
          "output_type": "stream",
          "name": "stdout",
          "text": [
            "Set after clearing: set()\n"
          ]
        }
      ]
    },
    {
      "cell_type": "code",
      "source": [
        "# 18.  Write a code to remove the element 4 from the set {1, 2, 3, 4}.\n",
        "\n",
        "my_set = {1, 2, 3, 4}\n",
        "\n",
        "my_set.remove(4)\n",
        "\n",
        "print(\"Set after removing 4:\", my_set)"
      ],
      "metadata": {
        "colab": {
          "base_uri": "https://localhost:8080/"
        },
        "id": "TSHdxHWYsBju",
        "outputId": "a8f38887-5f51-4936-ad4a-d94cecea3e23"
      },
      "execution_count": 22,
      "outputs": [
        {
          "output_type": "stream",
          "name": "stdout",
          "text": [
            "Set after removing 4: {1, 2, 3}\n"
          ]
        }
      ]
    },
    {
      "cell_type": "code",
      "source": [
        "# 19.  Write a code to find the union of two sets {1, 2, 3} and {3, 4, 5}.\n",
        "\n",
        "# Define the sets\n",
        "set1 = {1, 2, 3}\n",
        "set2 = {3, 4, 5}\n",
        "\n",
        "union_set = set1.union(set2)    # Find the union\n",
        "\n",
        "print(\"Union of sets:\", union_set)   # Print the result\n"
      ],
      "metadata": {
        "colab": {
          "base_uri": "https://localhost:8080/"
        },
        "id": "grNER2I-sNOf",
        "outputId": "ed645d2f-5b95-43a8-e9f1-088521f29ff4"
      },
      "execution_count": 23,
      "outputs": [
        {
          "output_type": "stream",
          "name": "stdout",
          "text": [
            "Union of sets: {1, 2, 3, 4, 5}\n"
          ]
        }
      ]
    },
    {
      "cell_type": "code",
      "source": [
        "# 20.  Write a code to find the intersection of two sets {1, 2, 3} and {2, 3, 4}.\n",
        "\n",
        "set1 = {1, 2, 3}\n",
        "set2 = {2, 3, 4}\n",
        "\n",
        "intersection_set = set1.intersection(set2)\n",
        "\n",
        "print(\"Intersection of sets:\", intersection_set)"
      ],
      "metadata": {
        "colab": {
          "base_uri": "https://localhost:8080/"
        },
        "id": "qmeckKCcsiFN",
        "outputId": "aed6490d-602a-4c9f-a960-483717e2530f"
      },
      "execution_count": 24,
      "outputs": [
        {
          "output_type": "stream",
          "name": "stdout",
          "text": [
            "Intersection of sets: {2, 3}\n"
          ]
        }
      ]
    },
    {
      "cell_type": "code",
      "source": [
        "# 21.  Write a code to create a dictionary with the keys \"name\", \"age\", and \"city\", and print it.\n",
        "\n",
        "my_dict = {\n",
        "    \"name\": \"John\",\n",
        "    \"age\": 25,\n",
        "    \"city\": \"New York\"\n",
        "}\n",
        "\n",
        "print(\"Dictionary:\", my_dict)"
      ],
      "metadata": {
        "colab": {
          "base_uri": "https://localhost:8080/"
        },
        "id": "3kBq-_xbsl-k",
        "outputId": "b3cae49b-1b19-4833-dcd4-1480a4d52893"
      },
      "execution_count": 25,
      "outputs": [
        {
          "output_type": "stream",
          "name": "stdout",
          "text": [
            "Dictionary: {'name': 'John', 'age': 25, 'city': 'New York'}\n"
          ]
        }
      ]
    },
    {
      "cell_type": "code",
      "source": [
        "# 22.  Write a code to add a new key-value pair \"country\": \"USA\" to the dictionary {'name': 'John', 'age': 25}.\n",
        "\n",
        "my_dict = {'name': 'John', 'age': 25}\n",
        "\n",
        "my_dict['country'] = 'USA'\n",
        "\n",
        "print(\"Updated dictionary:\", my_dict)"
      ],
      "metadata": {
        "colab": {
          "base_uri": "https://localhost:8080/"
        },
        "id": "9SoLSCMjsw9v",
        "outputId": "9480fde4-dbbd-42ce-8561-47b6530794e4"
      },
      "execution_count": 26,
      "outputs": [
        {
          "output_type": "stream",
          "name": "stdout",
          "text": [
            "Updated dictionary: {'name': 'John', 'age': 25, 'country': 'USA'}\n"
          ]
        }
      ]
    },
    {
      "cell_type": "code",
      "source": [
        "# 23.  Write a code to access the value associated with the key \"name\" in the dictionary {'name': 'Alice', 'age': 30}\n",
        "\n",
        "my_dict = {'name': 'Alice', 'age': 30}\n",
        "\n",
        "name_value = my_dict['name']\n",
        "\n",
        "print(\"Value associated with 'name':\", name_value)"
      ],
      "metadata": {
        "colab": {
          "base_uri": "https://localhost:8080/"
        },
        "id": "R0abZQTRs0Xj",
        "outputId": "c7054560-2928-4903-e382-ac2995589826"
      },
      "execution_count": 27,
      "outputs": [
        {
          "output_type": "stream",
          "name": "stdout",
          "text": [
            "Value associated with 'name': Alice\n"
          ]
        }
      ]
    },
    {
      "cell_type": "code",
      "source": [
        "# 24.  Write a code to access the value associated with the key \"name\" in the dictionary {'name': 'Alice', 'age': 30}\n",
        "\n",
        "my_dict = {'name': 'Alice', 'age': 30}\n",
        "\n",
        "name_value = my_dict['name']\n",
        "\n",
        "print(\"Value associated with 'name':\", name_value)"
      ],
      "metadata": {
        "colab": {
          "base_uri": "https://localhost:8080/"
        },
        "id": "1gxwNmT2s7Cn",
        "outputId": "c4a53c8d-9ee1-4454-8529-c17a93f1bc22"
      },
      "execution_count": 28,
      "outputs": [
        {
          "output_type": "stream",
          "name": "stdout",
          "text": [
            "Value associated with 'name': Alice\n"
          ]
        }
      ]
    },
    {
      "cell_type": "code",
      "source": [
        "# 25.  Write a code to check if the key \"city\" exists in the dictionary {'name': 'Alice', 'city': 'Paris'}.\n",
        "\n",
        "my_dict = {'name': 'Alice', 'city': 'Paris'}\n",
        "\n",
        "if 'city' in my_dict:\n",
        "    print(\"Key 'city' exists in the dictionary.\")\n",
        "else:\n",
        "    print(\"Key 'city' does not exist in the dictionary.\")"
      ],
      "metadata": {
        "colab": {
          "base_uri": "https://localhost:8080/"
        },
        "id": "KVgI7z2jtBgZ",
        "outputId": "e4b8e5d7-9b50-4679-bca7-f4ba1be2fe1d"
      },
      "execution_count": 29,
      "outputs": [
        {
          "output_type": "stream",
          "name": "stdout",
          "text": [
            "Key 'city' exists in the dictionary.\n"
          ]
        }
      ]
    },
    {
      "cell_type": "code",
      "source": [
        "# 26. Write a code to create a list, a tuple, and a dictionary, and print them all\n",
        "\n",
        "# Create a list\n",
        "my_list = [1, 2, 3, 4, 5]\n",
        "\n",
        "# Create a tuple\n",
        "my_tuple = (\"apple\", \"banana\", \"cherry\")\n",
        "\n",
        "# Create a dictionary\n",
        "my_dict = {\"name\": \"Alice\", \"age\": 25, \"city\": \"New York\"}\n",
        "\n",
        "# Print them all\n",
        "print(\"List:\", my_list)\n",
        "print(\"Tuple:\", my_tuple)\n",
        "print(\"Dictionary:\", my_dict)\n"
      ],
      "metadata": {
        "colab": {
          "base_uri": "https://localhost:8080/"
        },
        "id": "u2KH_c-CtGYD",
        "outputId": "3b977cf6-ad76-476e-f509-ee6780ced3e5"
      },
      "execution_count": 30,
      "outputs": [
        {
          "output_type": "stream",
          "name": "stdout",
          "text": [
            "List: [1, 2, 3, 4, 5]\n",
            "Tuple: ('apple', 'banana', 'cherry')\n",
            "Dictionary: {'name': 'Alice', 'age': 25, 'city': 'New York'}\n"
          ]
        }
      ]
    },
    {
      "cell_type": "code",
      "source": [
        "# 27. Write a code to create a list of 5 random numbers between 1 and 100, sort it in ascending order, and print theresult.(replaced)\n",
        "\n",
        "import random\n",
        "\n",
        "# Create a list of 5 random numbers between 1 and 100\n",
        "random_numbers = [random.randint(1, 100) for _ in range(5)]\n",
        "\n",
        "# Sort the list in ascending order\n",
        "random_numbers.sort()\n",
        "\n",
        "# Print the sorted list\n",
        "print(\"Sorted random numbers:\", random_numbers)\n",
        "\n"
      ],
      "metadata": {
        "colab": {
          "base_uri": "https://localhost:8080/"
        },
        "id": "mS1Lx5EutXdm",
        "outputId": "02edf348-b3d0-4a72-af6e-fd891ac10abc"
      },
      "execution_count": 31,
      "outputs": [
        {
          "output_type": "stream",
          "name": "stdout",
          "text": [
            "Sorted random numbers: [4, 16, 27, 54, 87]\n"
          ]
        }
      ]
    },
    {
      "cell_type": "code",
      "source": [
        "# 28.  Write a code to create a list with strings and print the element at the third index\n",
        "my_list = [\"apple\", \"banana\", \"cherry\", \"date\", \"elderberry\"]\n",
        "\n",
        "third_element = my_list[2]\n",
        "\n",
        "print(\"Element at index 2:\", third_element)"
      ],
      "metadata": {
        "colab": {
          "base_uri": "https://localhost:8080/"
        },
        "id": "R1loVvRVtyiV",
        "outputId": "d752e156-a514-44be-ffa2-9fb91d0c0eab"
      },
      "execution_count": 33,
      "outputs": [
        {
          "output_type": "stream",
          "name": "stdout",
          "text": [
            "Element at index 2: cherry\n"
          ]
        }
      ]
    },
    {
      "cell_type": "code",
      "source": [
        "# 29. Write a code to combine two dictionaries into one and print the result.\n",
        "\n",
        "# Define two dictionaries\n",
        "dict1 = {\"name\": \"raju\", \"age\": 25}\n",
        "dict2 = {\"city\": \"india\", \"job\": \"Engineer\"}\n",
        "\n",
        "# Combine the dictionaries\n",
        "combined_dict = {**dict1, **dict2}\n",
        "\n",
        "# Print the result\n",
        "print(\"Combined dictionary:\", combined_dict)\n"
      ],
      "metadata": {
        "colab": {
          "base_uri": "https://localhost:8080/"
        },
        "id": "5dKKfwqZt4pt",
        "outputId": "1bb88847-4f23-48ee-86a5-6fe6ba02e03f"
      },
      "execution_count": 34,
      "outputs": [
        {
          "output_type": "stream",
          "name": "stdout",
          "text": [
            "Combined dictionary: {'name': 'raju', 'age': 25, 'city': 'india', 'job': 'Engineer'}\n"
          ]
        }
      ]
    },
    {
      "cell_type": "code",
      "source": [
        "# 30. Write a code to convert a list of strings into a set.\n",
        "\n",
        "# Define a list of strings\n",
        "string_list = [\"apple\", \"banana\", \"cherry\", \"apple\", \"date\"]\n",
        "\n",
        "# Convert the list to a set\n",
        "string_set = set(string_list)\n",
        "\n",
        "# Print the result\n",
        "print(\"Set:\", string_set)\n"
      ],
      "metadata": {
        "colab": {
          "base_uri": "https://localhost:8080/"
        },
        "id": "atAYN2RouMCy",
        "outputId": "a45a06dc-761f-4d8f-ff12-f22620422157"
      },
      "execution_count": 35,
      "outputs": [
        {
          "output_type": "stream",
          "name": "stdout",
          "text": [
            "Set: {'banana', 'date', 'apple', 'cherry'}\n"
          ]
        }
      ]
    },
    {
      "cell_type": "code",
      "source": [],
      "metadata": {
        "id": "NepCNuP-uX16"
      },
      "execution_count": null,
      "outputs": []
    }
  ]
}